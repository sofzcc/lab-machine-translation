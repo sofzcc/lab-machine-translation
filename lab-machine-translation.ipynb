{
  "cells": [
    {
      "cell_type": "markdown",
      "metadata": {
        "id": "0eWfa8DnJGP0"
      },
      "source": [
        "# Lab | Text Generation from Shakespeare's Sonnet"
      ]
    },
    {
      "cell_type": "code",
      "execution_count": 8,
      "metadata": {
        "id": "BOwsuGQQY9OL"
      },
      "outputs": [],
      "source": [
        "import tensorflow as tf\n",
        "from tensorflow.keras.preprocessing.sequence import pad_sequences\n",
        "from tensorflow.keras.layers import Embedding, LSTM, Dense, Dropout, Bidirectional\n",
        "from tensorflow.keras.preprocessing.text import Tokenizer\n",
        "from tensorflow.keras.models import Sequential\n",
        "from tensorflow.keras.optimizers import Adam\n",
        "### YOUR CODE HERE\n",
        "# Figure out how to import regularizers\n",
        "###\n",
        "from keras.regularizers import l1, l2\n",
        "import tensorflow.keras.utils as ku\n",
        "import numpy as np"
      ]
    },
    {
      "cell_type": "code",
      "execution_count": 6,
      "metadata": {
        "id": "PRnDnCW-Z7qv"
      },
      "outputs": [],
      "source": [
        "tokenizer = Tokenizer()\n",
        "\n",
        "data = open('/content/sonnets.txt').read()\n",
        "\n",
        "corpus = data.lower().split(\"\\n\")\n",
        "\n",
        "\n",
        "tokenizer.fit_on_texts(corpus)\n",
        "total_words = len(tokenizer.word_index) + 1\n",
        "\n",
        "# create input sequences using list of tokens\n",
        "input_sequences = []\n",
        "for line in corpus:\n",
        "\ttoken_list = tokenizer.texts_to_sequences([line])[0]\n",
        "\tfor i in range(1, len(token_list)):\n",
        "\t\tn_gram_sequence = token_list[:i+1]\n",
        "\t\tinput_sequences.append(n_gram_sequence)\n",
        "\n",
        "\n",
        "# pad sequences\n",
        "max_sequence_len = max([len(x) for x in input_sequences])\n",
        "input_sequences = np.array(pad_sequences(input_sequences, maxlen=max_sequence_len, padding='pre'))\n",
        "\n",
        "# create predictors and label\n",
        "predictors, label = input_sequences[:,:-1],input_sequences[:,-1]\n",
        "\n",
        "label = ku.to_categorical(label, num_classes=total_words)"
      ]
    },
    {
      "cell_type": "code",
      "execution_count": 13,
      "metadata": {
        "id": "w9vH8Y59ajYL",
        "outputId": "70561bb6-ff1b-4321-8033-baff3c5644f9",
        "colab": {
          "base_uri": "https://localhost:8080/"
        }
      },
      "outputs": [
        {
          "output_type": "stream",
          "name": "stdout",
          "text": [
            "Model: \"sequential_3\"\n",
            "_________________________________________________________________\n",
            " Layer (type)                Output Shape              Param #   \n",
            "=================================================================\n",
            " embedding_1 (Embedding)     (None, 10, 100)           337500    \n",
            "                                                                 \n",
            " lstm_2 (LSTM)               (None, 10, 128)           117248    \n",
            "                                                                 \n",
            " dropout_1 (Dropout)         (None, 10, 128)           0         \n",
            "                                                                 \n",
            " lstm_3 (LSTM)               (None, 64)                49408     \n",
            "                                                                 \n",
            " dense_2 (Dense)             (None, 64)                4160      \n",
            "                                                                 \n",
            " dense_3 (Dense)             (None, 3375)              219375    \n",
            "                                                                 \n",
            "=================================================================\n",
            "Total params: 727691 (2.78 MB)\n",
            "Trainable params: 727691 (2.78 MB)\n",
            "Non-trainable params: 0 (0.00 Byte)\n",
            "_________________________________________________________________\n",
            "None\n"
          ]
        }
      ],
      "source": [
        "embedding_dim = 100\n",
        "\n",
        "model = Sequential()\n",
        "model.add(Embedding(total_words, embedding_dim, input_length=max_sequence_len-1 ))\n",
        "model.add(LSTM(128, return_sequences=True))\n",
        "model.add(Dropout(0.2))\n",
        "model.add(LSTM(64, return_sequences=False))\n",
        "model.add(Dense(64, activation = 'relu'))\n",
        "model.add(Dense(total_words, activation='softmax'))\n",
        "# Pick an optimizer\n",
        "model.compile(loss='categorical_crossentropy', optimizer = 'Adam', metrics =['accuracy']) # Pick a loss function and an optimizer)\n",
        "print(model.summary())\n"
      ]
    },
    {
      "cell_type": "code",
      "execution_count": 15,
      "metadata": {
        "id": "AIg2f1HBxqof",
        "outputId": "7ae1b71d-5294-4e66-9bee-43a8d76d0930",
        "colab": {
          "base_uri": "https://localhost:8080/"
        }
      },
      "outputs": [
        {
          "output_type": "stream",
          "name": "stdout",
          "text": [
            "Epoch 1/100\n",
            "484/484 [==============================] - 7s 14ms/step - loss: 6.7695 - accuracy: 0.0220\n",
            "Epoch 2/100\n",
            "484/484 [==============================] - 5s 11ms/step - loss: 6.5174 - accuracy: 0.0229\n",
            "Epoch 3/100\n",
            "484/484 [==============================] - 4s 8ms/step - loss: 6.4105 - accuracy: 0.0277\n",
            "Epoch 4/100\n",
            "484/484 [==============================] - 3s 7ms/step - loss: 6.2922 - accuracy: 0.0325\n",
            "Epoch 5/100\n",
            "484/484 [==============================] - 4s 8ms/step - loss: 6.1965 - accuracy: 0.0367\n",
            "Epoch 6/100\n",
            "484/484 [==============================] - 4s 8ms/step - loss: 6.0993 - accuracy: 0.0389\n",
            "Epoch 7/100\n",
            "484/484 [==============================] - 4s 7ms/step - loss: 6.0084 - accuracy: 0.0413\n",
            "Epoch 8/100\n",
            "484/484 [==============================] - 4s 8ms/step - loss: 5.9189 - accuracy: 0.0448\n",
            "Epoch 9/100\n",
            "484/484 [==============================] - 4s 9ms/step - loss: 5.8283 - accuracy: 0.0485\n",
            "Epoch 10/100\n",
            "484/484 [==============================] - 4s 7ms/step - loss: 5.7342 - accuracy: 0.0545\n",
            "Epoch 11/100\n",
            "484/484 [==============================] - 4s 7ms/step - loss: 5.6436 - accuracy: 0.0583\n",
            "Epoch 12/100\n",
            "484/484 [==============================] - 5s 10ms/step - loss: 5.5615 - accuracy: 0.0637\n",
            "Epoch 13/100\n",
            "484/484 [==============================] - 4s 7ms/step - loss: 5.4822 - accuracy: 0.0667\n",
            "Epoch 14/100\n",
            "484/484 [==============================] - 3s 7ms/step - loss: 5.4076 - accuracy: 0.0689\n",
            "Epoch 15/100\n",
            "484/484 [==============================] - 5s 9ms/step - loss: 5.3279 - accuracy: 0.0747\n",
            "Epoch 16/100\n",
            "484/484 [==============================] - 4s 8ms/step - loss: 5.2547 - accuracy: 0.0775\n",
            "Epoch 17/100\n",
            "484/484 [==============================] - 4s 7ms/step - loss: 5.1781 - accuracy: 0.0805\n",
            "Epoch 18/100\n",
            "484/484 [==============================] - 4s 9ms/step - loss: 5.1012 - accuracy: 0.0853\n",
            "Epoch 19/100\n",
            "484/484 [==============================] - 4s 9ms/step - loss: 5.0283 - accuracy: 0.0907\n",
            "Epoch 20/100\n",
            "484/484 [==============================] - 4s 7ms/step - loss: 4.9464 - accuracy: 0.0938\n",
            "Epoch 21/100\n",
            "484/484 [==============================] - 4s 8ms/step - loss: 4.8805 - accuracy: 0.1003\n",
            "Epoch 22/100\n",
            "484/484 [==============================] - 4s 9ms/step - loss: 4.7992 - accuracy: 0.1017\n",
            "Epoch 23/100\n",
            "484/484 [==============================] - 4s 8ms/step - loss: 4.7270 - accuracy: 0.1084\n",
            "Epoch 24/100\n",
            "484/484 [==============================] - 4s 8ms/step - loss: 4.6576 - accuracy: 0.1127\n",
            "Epoch 25/100\n",
            "484/484 [==============================] - 4s 9ms/step - loss: 4.5884 - accuracy: 0.1162\n",
            "Epoch 26/100\n",
            "484/484 [==============================] - 4s 8ms/step - loss: 4.5217 - accuracy: 0.1201\n",
            "Epoch 27/100\n",
            "484/484 [==============================] - 4s 8ms/step - loss: 4.4504 - accuracy: 0.1246\n",
            "Epoch 28/100\n",
            "484/484 [==============================] - 4s 9ms/step - loss: 4.3938 - accuracy: 0.1276\n",
            "Epoch 29/100\n",
            "484/484 [==============================] - 3s 7ms/step - loss: 4.3273 - accuracy: 0.1315\n",
            "Epoch 30/100\n",
            "484/484 [==============================] - 4s 7ms/step - loss: 4.2766 - accuracy: 0.1394\n",
            "Epoch 31/100\n",
            "484/484 [==============================] - 4s 9ms/step - loss: 4.2194 - accuracy: 0.1447\n",
            "Epoch 32/100\n",
            "484/484 [==============================] - 4s 7ms/step - loss: 4.1613 - accuracy: 0.1493\n",
            "Epoch 33/100\n",
            "484/484 [==============================] - 3s 7ms/step - loss: 4.1097 - accuracy: 0.1544\n",
            "Epoch 34/100\n",
            "484/484 [==============================] - 4s 8ms/step - loss: 4.0612 - accuracy: 0.1582\n",
            "Epoch 35/100\n",
            "484/484 [==============================] - 4s 8ms/step - loss: 4.0108 - accuracy: 0.1637\n",
            "Epoch 36/100\n",
            "484/484 [==============================] - 4s 7ms/step - loss: 3.9564 - accuracy: 0.1711\n",
            "Epoch 37/100\n",
            "484/484 [==============================] - 4s 7ms/step - loss: 3.9125 - accuracy: 0.1787\n",
            "Epoch 38/100\n",
            "484/484 [==============================] - 4s 9ms/step - loss: 3.8735 - accuracy: 0.1823\n",
            "Epoch 39/100\n",
            "484/484 [==============================] - 4s 8ms/step - loss: 3.8296 - accuracy: 0.1892\n",
            "Epoch 40/100\n",
            "484/484 [==============================] - 4s 8ms/step - loss: 3.7795 - accuracy: 0.1969\n",
            "Epoch 41/100\n",
            "484/484 [==============================] - 5s 9ms/step - loss: 3.7410 - accuracy: 0.1976\n",
            "Epoch 42/100\n",
            "484/484 [==============================] - 4s 8ms/step - loss: 3.7024 - accuracy: 0.2040\n",
            "Epoch 43/100\n",
            "484/484 [==============================] - 4s 8ms/step - loss: 3.6551 - accuracy: 0.2098\n",
            "Epoch 44/100\n",
            "484/484 [==============================] - 4s 9ms/step - loss: 3.6080 - accuracy: 0.2198\n",
            "Epoch 45/100\n",
            "484/484 [==============================] - 4s 7ms/step - loss: 3.5713 - accuracy: 0.2243\n",
            "Epoch 46/100\n",
            "484/484 [==============================] - 4s 8ms/step - loss: 3.5461 - accuracy: 0.2299\n",
            "Epoch 47/100\n",
            "484/484 [==============================] - 4s 9ms/step - loss: 3.5025 - accuracy: 0.2323\n",
            "Epoch 48/100\n",
            "484/484 [==============================] - 4s 8ms/step - loss: 3.4623 - accuracy: 0.2368\n",
            "Epoch 49/100\n",
            "484/484 [==============================] - 4s 8ms/step - loss: 3.4288 - accuracy: 0.2444\n",
            "Epoch 50/100\n",
            "484/484 [==============================] - 4s 9ms/step - loss: 3.3827 - accuracy: 0.2554\n",
            "Epoch 51/100\n",
            "484/484 [==============================] - 4s 9ms/step - loss: 3.3495 - accuracy: 0.2570\n",
            "Epoch 52/100\n",
            "484/484 [==============================] - 4s 7ms/step - loss: 3.3166 - accuracy: 0.2640\n",
            "Epoch 53/100\n",
            "484/484 [==============================] - 4s 7ms/step - loss: 3.2861 - accuracy: 0.2663\n",
            "Epoch 54/100\n",
            "484/484 [==============================] - 4s 9ms/step - loss: 3.2523 - accuracy: 0.2754\n",
            "Epoch 55/100\n",
            "484/484 [==============================] - 4s 8ms/step - loss: 3.2160 - accuracy: 0.2782\n",
            "Epoch 56/100\n",
            "484/484 [==============================] - 4s 8ms/step - loss: 3.1780 - accuracy: 0.2866\n",
            "Epoch 57/100\n",
            "484/484 [==============================] - 5s 10ms/step - loss: 3.1442 - accuracy: 0.2941\n",
            "Epoch 58/100\n",
            "484/484 [==============================] - 4s 8ms/step - loss: 3.1135 - accuracy: 0.2980\n",
            "Epoch 59/100\n",
            "484/484 [==============================] - 4s 8ms/step - loss: 3.0803 - accuracy: 0.3041\n",
            "Epoch 60/100\n",
            "484/484 [==============================] - 4s 9ms/step - loss: 3.0480 - accuracy: 0.3063\n",
            "Epoch 61/100\n",
            "484/484 [==============================] - 4s 8ms/step - loss: 3.0119 - accuracy: 0.3172\n",
            "Epoch 62/100\n",
            "484/484 [==============================] - 4s 7ms/step - loss: 2.9742 - accuracy: 0.3192\n",
            "Epoch 63/100\n",
            "484/484 [==============================] - 4s 9ms/step - loss: 2.9453 - accuracy: 0.3286\n",
            "Epoch 64/100\n",
            "484/484 [==============================] - 4s 8ms/step - loss: 2.9133 - accuracy: 0.3324\n",
            "Epoch 65/100\n",
            "484/484 [==============================] - 4s 7ms/step - loss: 2.8902 - accuracy: 0.3343\n",
            "Epoch 66/100\n",
            "484/484 [==============================] - 4s 8ms/step - loss: 2.8512 - accuracy: 0.3420\n",
            "Epoch 67/100\n",
            "484/484 [==============================] - 4s 9ms/step - loss: 2.8238 - accuracy: 0.3498\n",
            "Epoch 68/100\n",
            "484/484 [==============================] - 4s 7ms/step - loss: 2.7889 - accuracy: 0.3552\n",
            "Epoch 69/100\n",
            "484/484 [==============================] - 4s 8ms/step - loss: 2.7626 - accuracy: 0.3637\n",
            "Epoch 70/100\n",
            "484/484 [==============================] - 4s 9ms/step - loss: 2.7335 - accuracy: 0.3650\n",
            "Epoch 71/100\n",
            "484/484 [==============================] - 4s 7ms/step - loss: 2.6986 - accuracy: 0.3735\n",
            "Epoch 72/100\n",
            "484/484 [==============================] - 4s 8ms/step - loss: 2.6844 - accuracy: 0.3759\n",
            "Epoch 73/100\n",
            "484/484 [==============================] - 5s 9ms/step - loss: 2.6465 - accuracy: 0.3827\n",
            "Epoch 74/100\n",
            "484/484 [==============================] - 4s 8ms/step - loss: 2.6187 - accuracy: 0.3910\n",
            "Epoch 75/100\n",
            "484/484 [==============================] - 4s 8ms/step - loss: 2.5950 - accuracy: 0.3914\n",
            "Epoch 76/100\n",
            "484/484 [==============================] - 5s 9ms/step - loss: 2.5760 - accuracy: 0.3996\n",
            "Epoch 77/100\n",
            "484/484 [==============================] - 4s 8ms/step - loss: 2.5537 - accuracy: 0.4022\n",
            "Epoch 78/100\n",
            "484/484 [==============================] - 4s 8ms/step - loss: 2.5168 - accuracy: 0.4126\n",
            "Epoch 79/100\n",
            "484/484 [==============================] - 5s 10ms/step - loss: 2.4923 - accuracy: 0.4152\n",
            "Epoch 80/100\n",
            "484/484 [==============================] - 4s 8ms/step - loss: 2.4748 - accuracy: 0.4193\n",
            "Epoch 81/100\n",
            "484/484 [==============================] - 4s 8ms/step - loss: 2.4321 - accuracy: 0.4315\n",
            "Epoch 82/100\n",
            "484/484 [==============================] - 5s 9ms/step - loss: 2.4178 - accuracy: 0.4325\n",
            "Epoch 83/100\n",
            "484/484 [==============================] - 4s 8ms/step - loss: 2.4004 - accuracy: 0.4354\n",
            "Epoch 84/100\n",
            "484/484 [==============================] - 4s 8ms/step - loss: 2.3768 - accuracy: 0.4395\n",
            "Epoch 85/100\n",
            "484/484 [==============================] - 4s 9ms/step - loss: 2.3484 - accuracy: 0.4447\n",
            "Epoch 86/100\n",
            "484/484 [==============================] - 4s 9ms/step - loss: 2.3353 - accuracy: 0.4509\n",
            "Epoch 87/100\n",
            "484/484 [==============================] - 4s 8ms/step - loss: 2.3103 - accuracy: 0.4558\n",
            "Epoch 88/100\n",
            "484/484 [==============================] - 4s 8ms/step - loss: 2.2948 - accuracy: 0.4597\n",
            "Epoch 89/100\n",
            "484/484 [==============================] - 4s 9ms/step - loss: 2.2686 - accuracy: 0.4659\n",
            "Epoch 90/100\n",
            "484/484 [==============================] - 4s 8ms/step - loss: 2.2446 - accuracy: 0.4698\n",
            "Epoch 91/100\n",
            "484/484 [==============================] - 4s 8ms/step - loss: 2.2349 - accuracy: 0.4701\n",
            "Epoch 92/100\n",
            "484/484 [==============================] - 4s 9ms/step - loss: 2.1986 - accuracy: 0.4788\n",
            "Epoch 93/100\n",
            "484/484 [==============================] - 4s 8ms/step - loss: 2.1912 - accuracy: 0.4797\n",
            "Epoch 94/100\n",
            "484/484 [==============================] - 4s 8ms/step - loss: 2.1611 - accuracy: 0.4862\n",
            "Epoch 95/100\n",
            "484/484 [==============================] - 5s 10ms/step - loss: 2.1508 - accuracy: 0.4901\n",
            "Epoch 96/100\n",
            "484/484 [==============================] - 4s 8ms/step - loss: 2.1364 - accuracy: 0.4948\n",
            "Epoch 97/100\n",
            "484/484 [==============================] - 4s 8ms/step - loss: 2.1155 - accuracy: 0.4943\n",
            "Epoch 98/100\n",
            "484/484 [==============================] - 5s 10ms/step - loss: 2.1109 - accuracy: 0.4948\n",
            "Epoch 99/100\n",
            "484/484 [==============================] - 4s 8ms/step - loss: 2.0701 - accuracy: 0.5052\n",
            "Epoch 100/100\n",
            "484/484 [==============================] - 4s 8ms/step - loss: 2.0774 - accuracy: 0.5036\n"
          ]
        }
      ],
      "source": [
        " history = model.fit(predictors, label, epochs=100, verbose=1)"
      ]
    },
    {
      "cell_type": "code",
      "execution_count": 16,
      "metadata": {
        "id": "1fXTEO3GJ282",
        "outputId": "df2d30f0-bfbe-49ce-e41e-bb3a996244bc",
        "colab": {
          "base_uri": "https://localhost:8080/",
          "height": 887
        }
      },
      "outputs": [
        {
          "output_type": "display_data",
          "data": {
            "text/plain": [
              "<Figure size 640x480 with 1 Axes>"
            ],
            "image/png": "[encoded data removed]"
          },
          "metadata": {}
        },
        {
          "output_type": "display_data",
          "data": {
            "text/plain": [
              "<Figure size 640x480 with 1 Axes>"
            ],
            "image/png": "[encoded data removed]"
          },
          "metadata": {}
        }
      ],
      "source": [
        "import matplotlib.pyplot as plt\n",
        "acc = history.history['accuracy']\n",
        "loss = history.history['loss']\n",
        "\n",
        "epochs = range(len(acc))\n",
        "\n",
        "plt.plot(epochs, acc, 'b', label='Training accuracy')\n",
        "plt.title('Training accuracy')\n",
        "\n",
        "plt.figure()\n",
        "\n",
        "plt.plot(epochs, loss, 'b', label='Training Loss')\n",
        "plt.title('Training loss')\n",
        "plt.legend()\n",
        "\n",
        "plt.show()"
      ]
    },
    {
      "cell_type": "code",
      "execution_count": 19,
      "metadata": {
        "id": "6Vc6PHgxa6Hm",
        "outputId": "24c996bb-acfa-48a0-a787-f3e3d8b20ae3",
        "colab": {
          "base_uri": "https://localhost:8080/"
        }
      },
      "outputs": [
        {
          "output_type": "stream",
          "name": "stdout",
          "text": [
            "Help me Obi Wan Kenobi, you're my only hope invention fight make crime place fair ' ' in myself am slow bars to other it bear rolling ' thus of a chest locked cheer gems book wanting lie it ' ' ' in first triumphant leisure it so look so lie still ' not ' with thee i sing or a hate' night face lack ' a 'will' with ' in walls of show chase thee pass mine own desert that view took lie tell to ' awards breeds old about delighted relief now grow grow deem'd spent ' ' in summer speaking adieu lie at so words expire\n"
          ]
        }
      ],
      "source": [
        "seed_text = \"Help me Obi Wan Kenobi, you're my only hope\"\n",
        "next_words = 100\n",
        "\n",
        "for _ in range(next_words):\n",
        "\ttoken_list = tokenizer.texts_to_sequences([seed_text])[0]\n",
        "\ttoken_list = pad_sequences([token_list], maxlen=max_sequence_len-1, padding='pre')\n",
        "\tpredicted = model.predict(token_list, verbose=0)\n",
        "\toutput_word = \"\"\n",
        "\tfor word, index in tokenizer.word_index.items():\n",
        "\t\tif index == np.argmax(predicted):\n",
        "\t\t\toutput_word = word\n",
        "\t\t\tbreak\n",
        "\tseed_text += \" \" + output_word\n",
        "print(seed_text)"
      ]
    }
  ],
  "metadata": {
    "accelerator": "GPU",
    "colab": {
      "name": "NLP_Week4_Exercise_Shakespeare_Question.ipynb",
      "provenance": [],
      "gpuType": "T4"
    },
    "kernelspec": {
      "display_name": "Python 3",
      "name": "python3"
    },
    "language_info": {
      "codemirror_mode": {
        "name": "ipython",
        "version": 3
      },
      "file_extension": ".py",
      "mimetype": "text/x-python",
      "name": "python",
      "nbconvert_exporter": "python",
      "pygments_lexer": "ipython3",
      "version": "3.11.8"
    }
  },
  "nbformat": 4,
  "nbformat_minor": 0
}